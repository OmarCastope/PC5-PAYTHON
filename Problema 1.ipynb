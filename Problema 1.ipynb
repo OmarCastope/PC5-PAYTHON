{
 "cells": [
  {
   "cell_type": "code",
   "execution_count": null,
   "id": "ae79b699",
   "metadata": {
    "vscode": {
     "languageId": "plaintext"
    }
   },
   "outputs": [],
   "source": []
  }
 ],
 "metadata": {
  "language_info": {
   "name": "python"
  }
 },
 "nbformat": 4,
 "nbformat_minor": 5
}
